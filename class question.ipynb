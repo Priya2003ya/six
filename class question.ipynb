{
 "cells": [
  {
   "cell_type": "code",
   "execution_count": 51,
   "id": "38d48f26",
   "metadata": {},
   "outputs": [
    {
     "data": {
      "text/plain": [
       "'institute computer paradise'"
      ]
     },
     "execution_count": 51,
     "metadata": {},
     "output_type": "execute_result"
    }
   ],
   "source": [
    "# 2\n",
    "class reverse:\n",
    "    def __init__(self,string):\n",
    "        self.string=string\n",
    "        \n",
    "    def dis(self):\n",
    "        return \" \".join(self.string.split()[::-1])\n",
    "            \n",
    "obj=reverse(\"paradise computer institute\")\n",
    "obj.dis()"
   ]
  },
  {
   "cell_type": "code",
   "execution_count": 31,
   "id": "a4e3e502",
   "metadata": {},
   "outputs": [
    {
     "name": "stdout",
     "output_type": "stream",
     "text": [
      "Area of rectangle =  12\n"
     ]
    }
   ],
   "source": [
    "# 3\n",
    "class rectangle:\n",
    "    def __init__(self,l,w):\n",
    "        self.l=l\n",
    "        self.w=w\n",
    "        \n",
    "    def display(self):\n",
    "        self.area=self.l*self.w\n",
    "        print(\"Area of rectangle = \",self.area)\n",
    "        \n",
    "obj=rectangle(3,4)\n",
    "obj.display()"
   ]
  },
  {
   "cell_type": "code",
   "execution_count": 37,
   "id": "6ddfec58",
   "metadata": {},
   "outputs": [
    {
     "name": "stdout",
     "output_type": "stream",
     "text": [
      "Area of Circle =  50.24\n",
      "parimeter of circle =  25.12\n"
     ]
    }
   ],
   "source": [
    "# 4\n",
    "\n",
    "class circle:\n",
    "    def __init__(self,radius):\n",
    "        self.radius=radius\n",
    "        \n",
    "    def area_circle(self):\n",
    "        pi=3.14\n",
    "        area=pi*(self.radius**2)\n",
    "        print(\"Area of Circle = \",area)\n",
    "        \n",
    "    def parimeter_circle(self):\n",
    "        pi=3.14\n",
    "        parimeter=2*pi*self.radius\n",
    "        print(\"parimeter of circle = \",parimeter)\n",
    "        \n",
    "obj=circle(4)\n",
    "obj.area_circle()\n",
    "obj.parimeter_circle()\n",
    "        "
   ]
  },
  {
   "cell_type": "code",
   "execution_count": 1,
   "id": "609f3f21",
   "metadata": {},
   "outputs": [
    {
     "name": "stdout",
     "output_type": "stream",
     "text": [
      "Enter the keyname\n",
      "Enter the valueriya\n",
      "student_clas : riya\n",
      "student class add successfully\n",
      "{}\n"
     ]
    }
   ],
   "source": [
    "# 1\n",
    "\n",
    "class Student:\n",
    "    def __init__(self,student_id,student_name):\n",
    "        self.student_id=student_id\n",
    "        self.student_name=student_name\n",
    "        self.dic={}\n",
    "        \n",
    "    def data(self):\n",
    "        print(f\"student_id : {self.student_id}\")\n",
    "        print(f\"student_name : {self.student_name}\")\n",
    "        \n",
    "    def add_class(self,key,value):\n",
    "        key=input(\"Enter the key\")\n",
    "        value=input(\"Enter the value\")\n",
    "        print(f\"student_clas : {value}\")\n",
    "        print(\"student class add successfully\")\n",
    "        \n",
    "    def remove_name(self,key):\n",
    "        if key in self.dic:\n",
    "            self.dic.remove(key)\n",
    "            print(\"Remove the name attribute\")\n",
    "    def dis(self):\n",
    "        print(self.dic)\n",
    "        \n",
    "obj=Student(1,\"priya\")\n",
    "obj=data()\n",
    "obj.add_class(\"student_class\",3)\n",
    "obj.remove_name(\"student_name\")\n",
    "obj.dis()\n",
    "        "
   ]
  },
  {
   "cell_type": "code",
   "execution_count": 60,
   "id": "06f1a90e",
   "metadata": {},
   "outputs": [
    {
     "ename": "NameError",
     "evalue": "name 'key' is not defined",
     "output_type": "error",
     "traceback": [
      "\u001b[1;31m---------------------------------------------------------------------------\u001b[0m",
      "\u001b[1;31mNameError\u001b[0m                                 Traceback (most recent call last)",
      "Cell \u001b[1;32mIn[60], line 14\u001b[0m\n\u001b[0;32m      9\u001b[0m         \u001b[38;5;28mself\u001b[39m\u001b[38;5;241m.\u001b[39mdic[key]\u001b[38;5;241m=\u001b[39mvalue\n\u001b[0;32m     10\u001b[0m \u001b[38;5;66;03m#         print(\"student id\",self.student_id)\u001b[39;00m\n\u001b[0;32m     11\u001b[0m \u001b[38;5;66;03m#         print(\"student name\",self.student_name)\u001b[39;00m\n\u001b[1;32m---> 14\u001b[0m obj\u001b[38;5;241m=\u001b[39mStudent(\u001b[38;5;241m1\u001b[39m,\u001b[38;5;124m\"\u001b[39m\u001b[38;5;124mpriya\u001b[39m\u001b[38;5;124m\"\u001b[39m)\n\u001b[0;32m     15\u001b[0m obj\u001b[38;5;241m.\u001b[39mprin()\n",
      "Cell \u001b[1;32mIn[60], line 5\u001b[0m, in \u001b[0;36mStudent.__init__\u001b[1;34m(self, student_id, student_name)\u001b[0m\n\u001b[0;32m      3\u001b[0m \u001b[38;5;28mself\u001b[39m\u001b[38;5;241m.\u001b[39mstudent_id\u001b[38;5;241m=\u001b[39mstudent_id\n\u001b[0;32m      4\u001b[0m \u001b[38;5;28mself\u001b[39m\u001b[38;5;241m.\u001b[39mstudent_name\u001b[38;5;241m=\u001b[39mstudent_name\n\u001b[1;32m----> 5\u001b[0m \u001b[38;5;28mself\u001b[39m\u001b[38;5;241m.\u001b[39mdic\u001b[38;5;241m=\u001b[39m{key: value}\n",
      "\u001b[1;31mNameError\u001b[0m: name 'key' is not defined"
     ]
    }
   ],
   "source": [
    "class Student:\n",
    "    def __init__(self,student_id,student_name):\n",
    "        self.student_id=student_id\n",
    "        self.student_name=student_name\n",
    "        self.dic={}\n",
    "        \n",
    "        \n",
    "    def prin(self,key,value):\n",
    "        self.dic[key]=value\n",
    "#         print(\"student id\",self.student_id)\n",
    "#         print(\"student name\",self.student_name)\n",
    "\n",
    "\n",
    "obj=Student(1,\"priya\")\n",
    "obj.prin()"
   ]
  },
  {
   "cell_type": "code",
   "execution_count": 7,
   "id": "de3539e8",
   "metadata": {},
   "outputs": [
    {
     "ename": "NameError",
     "evalue": "name 'self' is not defined",
     "output_type": "error",
     "traceback": [
      "\u001b[1;31m---------------------------------------------------------------------------\u001b[0m",
      "\u001b[1;31mNameError\u001b[0m                                 Traceback (most recent call last)",
      "Cell \u001b[1;32mIn[7], line 21\u001b[0m\n\u001b[0;32m     19\u001b[0m student1 \u001b[38;5;241m=\u001b[39m Student(student_id\u001b[38;5;241m=\u001b[39m\u001b[38;5;241m1\u001b[39m, student_name\u001b[38;5;241m=\u001b[39m\u001b[38;5;124m\"\u001b[39m\u001b[38;5;124mRiya\u001b[39m\u001b[38;5;124m\"\u001b[39m)\n\u001b[0;32m     20\u001b[0m student1\u001b[38;5;241m.\u001b[39mstudent_class \u001b[38;5;241m=\u001b[39m \u001b[38;5;124m\"\u001b[39m\u001b[38;5;124mclass 10\u001b[39m\u001b[38;5;124m\"\u001b[39m\n\u001b[1;32m---> 21\u001b[0m student1\u001b[38;5;241m.\u001b[39mremove(\u001b[38;5;28mself\u001b[39m\u001b[38;5;241m.\u001b[39mstudent_name)\n\u001b[0;32m     23\u001b[0m student1\u001b[38;5;241m.\u001b[39mdisplay_attributes()\n",
      "\u001b[1;31mNameError\u001b[0m: name 'self' is not defined"
     ]
    }
   ],
   "source": [
    "class Student:\n",
    "    lkjl=98789\n",
    "    def __init__(self, student_id, student_name):\n",
    "        self.student_id = student_id\n",
    "        self.student_name = student_name\n",
    "        self.student_class = \" \" \n",
    "\n",
    "    def remove(self):\n",
    "        if self.student_name in display_attributes():\n",
    "            display_attributes.remove(student_name)\n",
    "    \n",
    "    \n",
    "    def display_attributes(self):\n",
    "        print(\"Student attributes and values:\")\n",
    "        print(f\"student_id: {self.student_id}\")\n",
    "        print(f\"student_name: {self.student_name}\")\n",
    "        print(f\"student_class: {self.student_class}\")\n",
    "\n",
    "\n",
    "student1 = Student(student_id=1, student_name=\"Riya\")\n",
    "student1.student_class = \"class 10\"\n",
    "student1.remove(self.student_name)\n",
    "\n",
    "student1.display_attributes()"
   ]
  },
  {
   "cell_type": "code",
   "execution_count": 23,
   "id": "898c9d15",
   "metadata": {},
   "outputs": [],
   "source": [
    "class file:\n",
    "    def __init__(self,string1):\n",
    "        self.string1=string1\n",
    "    def display(self):\n",
    "        print(self.string1)"
   ]
  },
  {
   "cell_type": "code",
   "execution_count": 26,
   "id": "4f786d3d",
   "metadata": {},
   "outputs": [
    {
     "ename": "AttributeError",
     "evalue": "type object 'file' has no attribute 'fi'",
     "output_type": "error",
     "traceback": [
      "\u001b[1;31m---------------------------------------------------------------------------\u001b[0m",
      "\u001b[1;31mAttributeError\u001b[0m                            Traceback (most recent call last)",
      "Cell \u001b[1;32mIn[26], line 1\u001b[0m\n\u001b[1;32m----> 1\u001b[0m file\u001b[38;5;241m.\u001b[39mfi(\u001b[38;5;124m\"\u001b[39m\u001b[38;5;124mkjh\u001b[39m\u001b[38;5;124m\"\u001b[39m)\n\u001b[0;32m      2\u001b[0m fi\u001b[38;5;241m.\u001b[39mdisplay()\n",
      "\u001b[1;31mAttributeError\u001b[0m: type object 'file' has no attribute 'fi'"
     ]
    }
   ],
   "source": [
    "file.fi(\"kjh\")\n",
    "fi.display()"
   ]
  },
  {
   "cell_type": "code",
   "execution_count": 27,
   "id": "b74635d3",
   "metadata": {},
   "outputs": [
    {
     "data": {
      "text/plain": [
       "__main__.file"
      ]
     },
     "execution_count": 27,
     "metadata": {},
     "output_type": "execute_result"
    }
   ],
   "source": [
    "file"
   ]
  },
  {
   "cell_type": "code",
   "execution_count": 28,
   "id": "d3aa356e",
   "metadata": {},
   "outputs": [
    {
     "name": "stdout",
     "output_type": "stream",
     "text": [
      "fname : priya\n",
      "lname): prajapati\n"
     ]
    }
   ],
   "source": [
    "class A:\n",
    "    def __init__(self,fname,lname):\n",
    "        self.fname=fname\n",
    "        self.lname=lname\n",
    "        \n",
    "    def dis(self):\n",
    "        print(f\"fname : {self.fname}\")\n",
    "        print(f\"lname: {self.lname}\")\n",
    "        \n",
    "a=A(\"priya\",\"prajapati\")\n",
    "a.dis()"
   ]
  },
  {
   "cell_type": "code",
   "execution_count": 29,
   "id": "bd97e7a7",
   "metadata": {},
   "outputs": [],
   "source": [
    "s=\"paradise computer institute\""
   ]
  },
  {
   "cell_type": "code",
   "execution_count": 30,
   "id": "a1aecb04",
   "metadata": {},
   "outputs": [],
   "source": [
    "l=s.split()[::-1]"
   ]
  },
  {
   "cell_type": "code",
   "execution_count": 31,
   "id": "fed11c09",
   "metadata": {},
   "outputs": [],
   "source": [
    "d=[]"
   ]
  },
  {
   "cell_type": "code",
   "execution_count": 32,
   "id": "31f095ed",
   "metadata": {},
   "outputs": [],
   "source": [
    "for i in l:\n",
    "    d.append(i)"
   ]
  },
  {
   "cell_type": "code",
   "execution_count": 33,
   "id": "5b3c3af5",
   "metadata": {},
   "outputs": [
    {
     "name": "stdout",
     "output_type": "stream",
     "text": [
      "institute computer paradise\n"
     ]
    }
   ],
   "source": [
    "print(\" \".join(d))"
   ]
  },
  {
   "cell_type": "code",
   "execution_count": 40,
   "id": "027526dc",
   "metadata": {},
   "outputs": [
    {
     "name": "stdout",
     "output_type": "stream",
     "text": [
      "institutecomputerparadiseparadise computer instituteparadise computer instituteparadise computer instituteparadise computer instituteparadise computer instituteinstitutecomputerparadiseinstitutecomputerparadise\n"
     ]
    }
   ],
   "source": [
    "class r:\n",
    "    def __init__(self,s):\n",
    "        self.s=s\n",
    "        d=[]\n",
    "    def dis(self):\n",
    "        l=s.split()[::-1]\n",
    "        for i in l:\n",
    "            d.append(i)\n",
    "        print(\"\".join(d))\n",
    "            \n",
    "a=r(\"paradise computer institute\")\n",
    "a.dis()"
   ]
  },
  {
   "cell_type": "code",
   "execution_count": 47,
   "id": "92009178",
   "metadata": {},
   "outputs": [
    {
     "name": "stdout",
     "output_type": "stream",
     "text": [
      "computer priya\n"
     ]
    }
   ],
   "source": [
    "class A:\n",
    "    def __init__(self,fname):\n",
    "        self.fname=fname\n",
    "        d=[]\n",
    "    def dis(self):\n",
    "        return \" \".join(self.fname.split()[::-1])\n",
    "    \n",
    "a=A(\"priya computer\")\n",
    "print(a.dis())"
   ]
  },
  {
   "cell_type": "code",
   "execution_count": 1,
   "id": "a9a0802a",
   "metadata": {},
   "outputs": [
    {
     "name": "stdout",
     "output_type": "stream",
     "text": [
      "display student id and student name with value\n"
     ]
    },
    {
     "ename": "AttributeError",
     "evalue": "type object 'demo' has no attribute 'items'",
     "output_type": "error",
     "traceback": [
      "\u001b[1;31m---------------------------------------------------------------------------\u001b[0m",
      "\u001b[1;31mAttributeError\u001b[0m                            Traceback (most recent call last)",
      "Cell \u001b[1;32mIn[1], line 5\u001b[0m\n\u001b[0;32m      3\u001b[0m     student_name\u001b[38;5;241m=\u001b[39m\u001b[38;5;124m\"\u001b[39m\u001b[38;5;124mdscd\u001b[39m\u001b[38;5;124m\"\u001b[39m\n\u001b[0;32m      4\u001b[0m \u001b[38;5;28mprint\u001b[39m(\u001b[38;5;124m\"\u001b[39m\u001b[38;5;124mdisplay student id and student name with value\u001b[39m\u001b[38;5;124m\"\u001b[39m)\n\u001b[1;32m----> 5\u001b[0m \u001b[38;5;28;01mfor\u001b[39;00m key,value \u001b[38;5;129;01min\u001b[39;00m demo\u001b[38;5;241m.\u001b[39mitems():\n\u001b[0;32m      6\u001b[0m     \u001b[38;5;28mprint\u001b[39m(\u001b[38;5;124mf\u001b[39m\u001b[38;5;124m\"\u001b[39m\u001b[38;5;132;01m{\u001b[39;00mkey\u001b[38;5;132;01m}\u001b[39;00m\u001b[38;5;124m:\u001b[39m\u001b[38;5;132;01m{\u001b[39;00mvalue\u001b[38;5;132;01m}\u001b[39;00m\u001b[38;5;124m\"\u001b[39m)\n\u001b[0;32m      8\u001b[0m demo()\n",
      "\u001b[1;31mAttributeError\u001b[0m: type object 'demo' has no attribute 'items'"
     ]
    }
   ],
   "source": [
    "class demo:\n",
    "    student_id=1\n",
    "    student_name=\"dscd\"\n",
    "print(\"display student id and student name with value\")\n",
    "for key,value in demo.items():\n",
    "    print(f\"{key}:{value}\")\n",
    "    \n",
    "demo()"
   ]
  },
  {
   "cell_type": "code",
   "execution_count": null,
   "id": "f493fef2",
   "metadata": {},
   "outputs": [],
   "source": []
  }
 ],
 "metadata": {
  "kernelspec": {
   "display_name": "Python 3 (ipykernel)",
   "language": "python",
   "name": "python3"
  },
  "language_info": {
   "codemirror_mode": {
    "name": "ipython",
    "version": 3
   },
   "file_extension": ".py",
   "mimetype": "text/x-python",
   "name": "python",
   "nbconvert_exporter": "python",
   "pygments_lexer": "ipython3",
   "version": "3.11.5"
  }
 },
 "nbformat": 4,
 "nbformat_minor": 5
}
